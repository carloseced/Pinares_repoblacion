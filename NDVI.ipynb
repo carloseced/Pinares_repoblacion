{
  "nbformat": 4,
  "nbformat_minor": 0,
  "metadata": {
    "colab": {
      "provenance": []
    },
    "kernelspec": {
      "name": "python3",
      "display_name": "Python 3"
    },
    "language_info": {
      "name": "python"
    }
  },
  "cells": [
    {
      "cell_type": "code",
      "execution_count": null,
      "metadata": {
        "colab": {
          "base_uri": "https://localhost:8080/"
        },
        "id": "pQFf4EfRrPdC",
        "outputId": "525e92d1-c85c-4514-f13e-af1cd7dc6981",
        "collapsed": true
      },
      "outputs": [
        {
          "output_type": "stream",
          "name": "stdout",
          "text": [
            "Collecting eefolium\n",
            "  Downloading eefolium-0.2.0-py2.py3-none-any.whl (46 kB)\n",
            "\u001b[?25l     \u001b[90m━━━━━━━━━━━━━━━━━━━━━━━━━━━━━━━━━━━━━━━━\u001b[0m \u001b[32m0.0/46.9 kB\u001b[0m \u001b[31m?\u001b[0m eta \u001b[36m-:--:--\u001b[0m\r\u001b[2K     \u001b[90m━━━━━━━━━━━━━━━━━━━━━━━━━━━━━━━━━━━━━━━━\u001b[0m \u001b[32m46.9/46.9 kB\u001b[0m \u001b[31m1.6 MB/s\u001b[0m eta \u001b[36m0:00:00\u001b[0m\n",
            "\u001b[?25hRequirement already satisfied: earthengine-api in /usr/local/lib/python3.10/dist-packages (from eefolium) (0.1.389)\n",
            "Requirement already satisfied: folium>=0.11.0 in /usr/local/lib/python3.10/dist-packages (from eefolium) (0.14.0)\n",
            "Requirement already satisfied: branca>=0.6.0 in /usr/local/lib/python3.10/dist-packages (from folium>=0.11.0->eefolium) (0.7.1)\n",
            "Requirement already satisfied: jinja2>=2.9 in /usr/local/lib/python3.10/dist-packages (from folium>=0.11.0->eefolium) (3.1.3)\n",
            "Requirement already satisfied: numpy in /usr/local/lib/python3.10/dist-packages (from folium>=0.11.0->eefolium) (1.25.2)\n",
            "Requirement already satisfied: requests in /usr/local/lib/python3.10/dist-packages (from folium>=0.11.0->eefolium) (2.31.0)\n",
            "Requirement already satisfied: google-cloud-storage in /usr/local/lib/python3.10/dist-packages (from earthengine-api->eefolium) (2.8.0)\n",
            "Requirement already satisfied: google-api-python-client>=1.12.1 in /usr/local/lib/python3.10/dist-packages (from earthengine-api->eefolium) (2.84.0)\n",
            "Requirement already satisfied: google-auth>=1.4.1 in /usr/local/lib/python3.10/dist-packages (from earthengine-api->eefolium) (2.27.0)\n",
            "Requirement already satisfied: google-auth-httplib2>=0.0.3 in /usr/local/lib/python3.10/dist-packages (from earthengine-api->eefolium) (0.1.1)\n",
            "Requirement already satisfied: httplib2<1dev,>=0.9.2 in /usr/local/lib/python3.10/dist-packages (from earthengine-api->eefolium) (0.22.0)\n",
            "Requirement already satisfied: google-api-core!=2.0.*,!=2.1.*,!=2.2.*,!=2.3.0,<3.0.0dev,>=1.31.5 in /usr/local/lib/python3.10/dist-packages (from google-api-python-client>=1.12.1->earthengine-api->eefolium) (2.11.1)\n",
            "Requirement already satisfied: uritemplate<5,>=3.0.1 in /usr/local/lib/python3.10/dist-packages (from google-api-python-client>=1.12.1->earthengine-api->eefolium) (4.1.1)\n",
            "Requirement already satisfied: cachetools<6.0,>=2.0.0 in /usr/local/lib/python3.10/dist-packages (from google-auth>=1.4.1->earthengine-api->eefolium) (5.3.2)\n",
            "Requirement already satisfied: pyasn1-modules>=0.2.1 in /usr/local/lib/python3.10/dist-packages (from google-auth>=1.4.1->earthengine-api->eefolium) (0.3.0)\n",
            "Requirement already satisfied: rsa<5,>=3.1.4 in /usr/local/lib/python3.10/dist-packages (from google-auth>=1.4.1->earthengine-api->eefolium) (4.9)\n",
            "Requirement already satisfied: pyparsing!=3.0.0,!=3.0.1,!=3.0.2,!=3.0.3,<4,>=2.4.2 in /usr/local/lib/python3.10/dist-packages (from httplib2<1dev,>=0.9.2->earthengine-api->eefolium) (3.1.1)\n",
            "Requirement already satisfied: MarkupSafe>=2.0 in /usr/local/lib/python3.10/dist-packages (from jinja2>=2.9->folium>=0.11.0->eefolium) (2.1.5)\n",
            "Requirement already satisfied: google-cloud-core<3.0dev,>=2.3.0 in /usr/local/lib/python3.10/dist-packages (from google-cloud-storage->earthengine-api->eefolium) (2.3.3)\n",
            "Requirement already satisfied: google-resumable-media>=2.3.2 in /usr/local/lib/python3.10/dist-packages (from google-cloud-storage->earthengine-api->eefolium) (2.7.0)\n",
            "Requirement already satisfied: charset-normalizer<4,>=2 in /usr/local/lib/python3.10/dist-packages (from requests->folium>=0.11.0->eefolium) (3.3.2)\n",
            "Requirement already satisfied: idna<4,>=2.5 in /usr/local/lib/python3.10/dist-packages (from requests->folium>=0.11.0->eefolium) (3.6)\n",
            "Requirement already satisfied: urllib3<3,>=1.21.1 in /usr/local/lib/python3.10/dist-packages (from requests->folium>=0.11.0->eefolium) (2.0.7)\n",
            "Requirement already satisfied: certifi>=2017.4.17 in /usr/local/lib/python3.10/dist-packages (from requests->folium>=0.11.0->eefolium) (2024.2.2)\n",
            "Requirement already satisfied: googleapis-common-protos<2.0.dev0,>=1.56.2 in /usr/local/lib/python3.10/dist-packages (from google-api-core!=2.0.*,!=2.1.*,!=2.2.*,!=2.3.0,<3.0.0dev,>=1.31.5->google-api-python-client>=1.12.1->earthengine-api->eefolium) (1.62.0)\n",
            "Requirement already satisfied: protobuf!=3.20.0,!=3.20.1,!=4.21.0,!=4.21.1,!=4.21.2,!=4.21.3,!=4.21.4,!=4.21.5,<5.0.0.dev0,>=3.19.5 in /usr/local/lib/python3.10/dist-packages (from google-api-core!=2.0.*,!=2.1.*,!=2.2.*,!=2.3.0,<3.0.0dev,>=1.31.5->google-api-python-client>=1.12.1->earthengine-api->eefolium) (3.20.3)\n",
            "Requirement already satisfied: google-crc32c<2.0dev,>=1.0 in /usr/local/lib/python3.10/dist-packages (from google-resumable-media>=2.3.2->google-cloud-storage->earthengine-api->eefolium) (1.5.0)\n",
            "Requirement already satisfied: pyasn1<0.6.0,>=0.4.6 in /usr/local/lib/python3.10/dist-packages (from pyasn1-modules>=0.2.1->google-auth>=1.4.1->earthengine-api->eefolium) (0.5.1)\n",
            "Installing collected packages: eefolium\n",
            "Successfully installed eefolium-0.2.0\n"
          ]
        }
      ],
      "source": [
        "!pip install eefolium"
      ]
    },
    {
      "cell_type": "code",
      "source": [
        "# Importing required packages\n",
        "# ee is the official package built by Google to access Google Earth Engine\n",
        "# geemap is a package for interactive mapping with Google Earth Engine\n",
        "import ee\n",
        "import eefolium as geemap"
      ],
      "metadata": {
        "id": "pxL8gt7QvpZV"
      },
      "execution_count": null,
      "outputs": []
    },
    {
      "cell_type": "code",
      "source": [
        "# Authenticating with Google Earth Engine\n",
        "# WARNING: when you input the verification code, press Enter\n",
        "# Do not run cell or you could need to restart Jupyter to continue working\n",
        "ee.Authenticate()"
      ],
      "metadata": {
        "id": "9RtnPrCawZ94"
      },
      "execution_count": null,
      "outputs": []
    },
    {
      "cell_type": "code",
      "source": [
        "# Connecting to Google Earth Engine\n",
        "ee.Initialize(project='ee-eced692')"
      ],
      "metadata": {
        "id": "CBMOJNe8xDTv"
      },
      "execution_count": null,
      "outputs": []
    },
    {
      "cell_type": "code",
      "source": [
        "# ee.FeatureCollection can contain geometrical objects.\n",
        "# In this case, we have used it to contain the limits of Sierra Nevada protected area.\n",
        "# You have to CHANGE THE PATH TO YOUR HOME FOLDER within GEE\n",
        "zone = ee.FeatureCollection('projects/ee-eced692/assets/pnatural_23030')"
      ],
      "metadata": {
        "id": "3S7q9Phzx3Ss"
      },
      "execution_count": null,
      "outputs": []
    },
    {
      "cell_type": "code",
      "source": [
        "def get_NDVI(img):\n",
        "  return img.addBands(img.normalizedDifference([\"B4\", \"B3\"]).rename(\"NDVI\"))"
      ],
      "metadata": {
        "id": "Uf-CiVskyR_R"
      },
      "execution_count": null,
      "outputs": []
    },
    {
      "cell_type": "code",
      "source": [
        "l7collection = (\n",
        "    ee.ImageCollection(\"LANDSAT/LE07/C01/T1_SR\")\n",
        "    .filterBounds(zone)\n",
        "    .filterDate(\"1999-01-01\", \"1999-12-31\")\n",
        ")\n",
        "\n",
        "l7ndvi = l7collection.map(get_NDVI)\n",
        "\n",
        "composite = l7ndvi.qualityMosaic(\"NDVI\").clip(zone)\n",
        "\n",
        "band = composite.select(\"NDVI\")"
      ],
      "metadata": {
        "id": "pQmcbN4MzeP1"
      },
      "execution_count": null,
      "outputs": []
    },
    {
      "cell_type": "markdown",
      "source": [
        "...\n",
        "qualityMosaic coge el valor máximo de un pixel a lo largo de una serie temporal.\n",
        "de la colección l7ndvi, nos coge la banda \"NDVI\" y clip es que recorta el mapa al parque natural (zone)"
      ],
      "metadata": {
        "id": "VGiB3ny00WfA"
      }
    },
    {
      "cell_type": "code",
      "source": [
        "m = geemap.Map()\n",
        "\n",
        "m.centerObject(zone, zoom=10)\n",
        "\n",
        "vis_params = {\"min\": 0, \"max\": 1, \"palette\": ['#e5f5e0','#a1d99b','#31a354']}\n",
        "\n",
        "m.addLayer(band, vis_params, \"NDVI\")\n",
        "\n",
        "m"
      ],
      "metadata": {
        "colab": {
          "base_uri": "https://localhost:8080/",
          "height": 711
        },
        "id": "jYrUNBze0Tk4",
        "outputId": "974c3d65-c8e5-4de3-b853-511a7bc1cb4a"
      },
      "execution_count": null,
      "outputs": [
        {
          "output_type": "execute_result",
          "data": {
            "text/plain": [
              "<eefolium.eefolium.Map at 0x7a04e442bc70>"
            ],
            "text/html": [
              "<div style=\"width:100%;\"><div style=\"position:relative;width:100%;height:0;padding-bottom:60%;\"><span style=\"color:#565656\">Make this Notebook Trusted to load map: File -> Trust Notebook</span><iframe srcdoc=\"&lt;!DOCTYPE html&gt;\n",
              "&lt;html&gt;\n",
              "&lt;head&gt;\n",
              "    \n",
              "    &lt;meta http-equiv=&quot;content-type&quot; content=&quot;text/html; charset=UTF-8&quot; /&gt;\n",
              "    \n",
              "        &lt;script&gt;\n",
              "            L_NO_TOUCH = false;\n",
              "            L_DISABLE_3D = false;\n",
              "        &lt;/script&gt;\n",
              "    \n",
              "    &lt;style&gt;html, body {width: 100%;height: 100%;margin: 0;padding: 0;}&lt;/style&gt;\n",
              "    &lt;style&gt;#map {position:absolute;top:0;bottom:0;right:0;left:0;}&lt;/style&gt;\n",
              "    &lt;script src=&quot;https://cdn.jsdelivr.net/npm/leaflet@1.9.3/dist/leaflet.js&quot;&gt;&lt;/script&gt;\n",
              "    &lt;script src=&quot;https://code.jquery.com/jquery-1.12.4.min.js&quot;&gt;&lt;/script&gt;\n",
              "    &lt;script src=&quot;https://cdn.jsdelivr.net/npm/bootstrap@5.2.2/dist/js/bootstrap.bundle.min.js&quot;&gt;&lt;/script&gt;\n",
              "    &lt;script src=&quot;https://cdnjs.cloudflare.com/ajax/libs/Leaflet.awesome-markers/2.0.2/leaflet.awesome-markers.js&quot;&gt;&lt;/script&gt;\n",
              "    &lt;link rel=&quot;stylesheet&quot; href=&quot;https://cdn.jsdelivr.net/npm/leaflet@1.9.3/dist/leaflet.css&quot;/&gt;\n",
              "    &lt;link rel=&quot;stylesheet&quot; href=&quot;https://cdn.jsdelivr.net/npm/bootstrap@5.2.2/dist/css/bootstrap.min.css&quot;/&gt;\n",
              "    &lt;link rel=&quot;stylesheet&quot; href=&quot;https://netdna.bootstrapcdn.com/bootstrap/3.0.0/css/bootstrap.min.css&quot;/&gt;\n",
              "    &lt;link rel=&quot;stylesheet&quot; href=&quot;https://cdn.jsdelivr.net/npm/@fortawesome/fontawesome-free@6.2.0/css/all.min.css&quot;/&gt;\n",
              "    &lt;link rel=&quot;stylesheet&quot; href=&quot;https://cdnjs.cloudflare.com/ajax/libs/Leaflet.awesome-markers/2.0.2/leaflet.awesome-markers.css&quot;/&gt;\n",
              "    &lt;link rel=&quot;stylesheet&quot; href=&quot;https://cdn.jsdelivr.net/gh/python-visualization/folium/folium/templates/leaflet.awesome.rotate.min.css&quot;/&gt;\n",
              "    \n",
              "            &lt;meta name=&quot;viewport&quot; content=&quot;width=device-width,\n",
              "                initial-scale=1.0, maximum-scale=1.0, user-scalable=no&quot; /&gt;\n",
              "            &lt;style&gt;\n",
              "                #map_0b066e043b0dfb59a8d9d598c1320f23 {\n",
              "                    position: relative;\n",
              "                    width: 100.0%;\n",
              "                    height: 100.0%;\n",
              "                    left: 0.0%;\n",
              "                    top: 0.0%;\n",
              "                }\n",
              "                .leaflet-container { font-size: 1rem; }\n",
              "            &lt;/style&gt;\n",
              "        \n",
              "    &lt;script src=&quot;https://cdnjs.cloudflare.com/ajax/libs/leaflet.fullscreen/1.4.2/Control.FullScreen.min.js&quot;&gt;&lt;/script&gt;\n",
              "    &lt;link rel=&quot;stylesheet&quot; href=&quot;https://cdnjs.cloudflare.com/ajax/libs/leaflet.fullscreen/1.4.2/Control.FullScreen.min.css&quot;/&gt;\n",
              "&lt;/head&gt;\n",
              "&lt;body&gt;\n",
              "    \n",
              "    \n",
              "            &lt;div class=&quot;folium-map&quot; id=&quot;map_0b066e043b0dfb59a8d9d598c1320f23&quot; &gt;&lt;/div&gt;\n",
              "        \n",
              "&lt;/body&gt;\n",
              "&lt;script&gt;\n",
              "    \n",
              "    \n",
              "            var map_0b066e043b0dfb59a8d9d598c1320f23 = L.map(\n",
              "                &quot;map_0b066e043b0dfb59a8d9d598c1320f23&quot;,\n",
              "                {\n",
              "                    center: [40.0, -100.0],\n",
              "                    crs: L.CRS.EPSG3857,\n",
              "                    zoom: 4,\n",
              "                    zoomControl: true,\n",
              "                    preferCanvas: false,\n",
              "                    useEe: true,\n",
              "                    eeInitialize: true,\n",
              "                    addGoogleMap: true,\n",
              "                    pluginLatlngpopup: true,\n",
              "                    pluginFullscreen: true,\n",
              "                    pluginDraw: false,\n",
              "                    DrawExport: true,\n",
              "                    pluginMinimap: false,\n",
              "                    pluginLayercontrol: false,\n",
              "                }\n",
              "            );\n",
              "\n",
              "            \n",
              "\n",
              "        \n",
              "    \n",
              "            var tile_layer_da485a9588fbefab16e453518b70074e = L.tileLayer(\n",
              "                &quot;https://{s}.tile.openstreetmap.org/{z}/{x}/{y}.png&quot;,\n",
              "                {&quot;attribution&quot;: &quot;Data by \\u0026copy; \\u003ca target=\\&quot;_blank\\&quot; href=\\&quot;http://openstreetmap.org\\&quot;\\u003eOpenStreetMap\\u003c/a\\u003e, under \\u003ca target=\\&quot;_blank\\&quot; href=\\&quot;http://www.openstreetmap.org/copyright\\&quot;\\u003eODbL\\u003c/a\\u003e.&quot;, &quot;detectRetina&quot;: false, &quot;maxNativeZoom&quot;: 18, &quot;maxZoom&quot;: 18, &quot;minZoom&quot;: 0, &quot;noWrap&quot;: false, &quot;opacity&quot;: 1, &quot;subdomains&quot;: &quot;abc&quot;, &quot;tms&quot;: false}\n",
              "            ).addTo(map_0b066e043b0dfb59a8d9d598c1320f23);\n",
              "        \n",
              "    \n",
              "            var tile_layer_2c43d8a1991c3581a211b8f7d3a1f83b = L.tileLayer(\n",
              "                &quot;https://mt1.google.com/vt/lyrs=m\\u0026x={x}\\u0026y={y}\\u0026z={z}&quot;,\n",
              "                {&quot;attribution&quot;: &quot;Google&quot;, &quot;detectRetina&quot;: false, &quot;maxNativeZoom&quot;: 18, &quot;maxZoom&quot;: 18, &quot;minZoom&quot;: 0, &quot;noWrap&quot;: false, &quot;opacity&quot;: 1, &quot;subdomains&quot;: &quot;abc&quot;, &quot;tms&quot;: false}\n",
              "            ).addTo(map_0b066e043b0dfb59a8d9d598c1320f23);\n",
              "        \n",
              "    \n",
              "                var lat_lng_popup_d5deb7c65ad9a4bcb6f4e5007c873af2 = L.popup();\n",
              "                function latLngPop(e) {\n",
              "                    lat_lng_popup_d5deb7c65ad9a4bcb6f4e5007c873af2\n",
              "                        .setLatLng(e.latlng)\n",
              "                        .setContent(&quot;Latitude: &quot; + e.latlng.lat.toFixed(4) +\n",
              "                                    &quot;&lt;br&gt;Longitude: &quot; + e.latlng.lng.toFixed(4))\n",
              "                        .openOn(map_0b066e043b0dfb59a8d9d598c1320f23);\n",
              "                    }\n",
              "                map_0b066e043b0dfb59a8d9d598c1320f23.on(&#x27;click&#x27;, latLngPop);\n",
              "            \n",
              "    \n",
              "            L.control.fullscreen(\n",
              "                {&quot;forceSeparateButton&quot;: false, &quot;position&quot;: &quot;topleft&quot;, &quot;title&quot;: &quot;Full Screen&quot;, &quot;titleCancel&quot;: &quot;Exit Full Screen&quot;}\n",
              "            ).addTo(map_0b066e043b0dfb59a8d9d598c1320f23);\n",
              "        \n",
              "    \n",
              "            map_0b066e043b0dfb59a8d9d598c1320f23.fitBounds(\n",
              "                [[40, -100], [40, -100]],\n",
              "                {&quot;maxZoom&quot;: 4}\n",
              "            );\n",
              "        \n",
              "    \n",
              "            map_0b066e043b0dfb59a8d9d598c1320f23.fitBounds(\n",
              "                [[37.0670734002369, -3.138313479497802], [37.0670734002369, -3.138313479497802]],\n",
              "                {&quot;maxZoom&quot;: 10}\n",
              "            );\n",
              "        \n",
              "    \n",
              "            var tile_layer_52ea500e581f0c896d203a806a12c116 = L.tileLayer(\n",
              "                &quot;https://earthengine.googleapis.com/v1/projects/ee-eced692/maps/a0055b709b448833e678b5d297d8a158-ef2feaa4b74d3f8f334b8a1c74f70e15/tiles/{z}/{x}/{y}&quot;,\n",
              "                {&quot;attribution&quot;: &quot;Google Earth Engine&quot;, &quot;detectRetina&quot;: false, &quot;maxNativeZoom&quot;: 18, &quot;maxZoom&quot;: 18, &quot;minZoom&quot;: 0, &quot;noWrap&quot;: false, &quot;opacity&quot;: 1.0, &quot;subdomains&quot;: &quot;abc&quot;, &quot;tms&quot;: false}\n",
              "            ).addTo(map_0b066e043b0dfb59a8d9d598c1320f23);\n",
              "        \n",
              "&lt;/script&gt;\n",
              "&lt;/html&gt;\" style=\"position:absolute;width:100%;height:100%;left:0;top:0;border:none !important;\" allowfullscreen webkitallowfullscreen mozallowfullscreen></iframe></div></div>"
            ]
          },
          "metadata": {},
          "execution_count": 8
        }
      ]
    },
    {
      "cell_type": "markdown",
      "source": [
        "Ahora vamos a hacer esto mismo pero para varios años, para ello usaremos los BUCLES."
      ],
      "metadata": {
        "id": "19jafSAY9DvB"
      }
    },
    {
      "cell_type": "code",
      "source": [
        "bands = []\n",
        "\n",
        "years = range(2011, 2021)\n",
        "for year in years:\n",
        "  str_year = str(year)\n",
        "  print(str_year)\n",
        "  l7collection = (\n",
        "    ee.ImageCollection(\"LANDSAT/LE07/C01/T1_SR\")\n",
        "    .filterBounds(zone)\n",
        "    .filterDate(str_year + \"-01-01\", str_year + \"-12-31\")\n",
        "  )\n",
        "\n",
        "  l7ndvi = l7collection.map(get_NDVI)\n",
        "\n",
        "  composite = l7ndvi.qualityMosaic(\"NDVI\").clip(zone)\n",
        "\n",
        "  band = composite.select(\"NDVI\")\n",
        "\n",
        "  bands.append(band)"
      ],
      "metadata": {
        "colab": {
          "base_uri": "https://localhost:8080/"
        },
        "id": "Ck02OLvb9KFN",
        "outputId": "0f34f38e-c3a5-464e-a7f6-d15c3cdb995c"
      },
      "execution_count": null,
      "outputs": [
        {
          "output_type": "stream",
          "name": "stdout",
          "text": [
            "2011\n",
            "2012\n",
            "2013\n",
            "2014\n",
            "2015\n",
            "2016\n",
            "2017\n",
            "2018\n",
            "2019\n",
            "2020\n"
          ]
        }
      ]
    },
    {
      "cell_type": "code",
      "source": [
        "m = geemap.Map()\n",
        "\n",
        "m.centerObject(zone, zoom=10)\n",
        "\n",
        "vis_params = {\"min\": 0, \"max\": 1, \"palette\": ['#e5f5e0','#a1d99b','#31a354']}\n",
        "\n",
        "for posicion, banda in enumerate(bands):\n",
        "  m.addLayer(banda, vis_params, \"NDVI_\" + str(2011 + posicion))\n",
        "\n",
        "m.addLayerControl()\n",
        "\n",
        "m"
      ],
      "metadata": {
        "colab": {
          "base_uri": "https://localhost:8080/",
          "height": 711
        },
        "id": "RIngtcYC_mnu",
        "outputId": "385abae9-6b7c-4413-d9d8-3126cfb6d059"
      },
      "execution_count": null,
      "outputs": [
        {
          "output_type": "execute_result",
          "data": {
            "text/plain": [
              "<eefolium.eefolium.Map at 0x7a04e444bb20>"
            ],
            "text/html": [
              "<div style=\"width:100%;\"><div style=\"position:relative;width:100%;height:0;padding-bottom:60%;\"><span style=\"color:#565656\">Make this Notebook Trusted to load map: File -> Trust Notebook</span><iframe srcdoc=\"&lt;!DOCTYPE html&gt;\n",
              "&lt;html&gt;\n",
              "&lt;head&gt;\n",
              "    \n",
              "    &lt;meta http-equiv=&quot;content-type&quot; content=&quot;text/html; charset=UTF-8&quot; /&gt;\n",
              "    \n",
              "        &lt;script&gt;\n",
              "            L_NO_TOUCH = false;\n",
              "            L_DISABLE_3D = false;\n",
              "        &lt;/script&gt;\n",
              "    \n",
              "    &lt;style&gt;html, body {width: 100%;height: 100%;margin: 0;padding: 0;}&lt;/style&gt;\n",
              "    &lt;style&gt;#map {position:absolute;top:0;bottom:0;right:0;left:0;}&lt;/style&gt;\n",
              "    &lt;script src=&quot;https://cdn.jsdelivr.net/npm/leaflet@1.9.3/dist/leaflet.js&quot;&gt;&lt;/script&gt;\n",
              "    &lt;script src=&quot;https://code.jquery.com/jquery-1.12.4.min.js&quot;&gt;&lt;/script&gt;\n",
              "    &lt;script src=&quot;https://cdn.jsdelivr.net/npm/bootstrap@5.2.2/dist/js/bootstrap.bundle.min.js&quot;&gt;&lt;/script&gt;\n",
              "    &lt;script src=&quot;https://cdnjs.cloudflare.com/ajax/libs/Leaflet.awesome-markers/2.0.2/leaflet.awesome-markers.js&quot;&gt;&lt;/script&gt;\n",
              "    &lt;link rel=&quot;stylesheet&quot; href=&quot;https://cdn.jsdelivr.net/npm/leaflet@1.9.3/dist/leaflet.css&quot;/&gt;\n",
              "    &lt;link rel=&quot;stylesheet&quot; href=&quot;https://cdn.jsdelivr.net/npm/bootstrap@5.2.2/dist/css/bootstrap.min.css&quot;/&gt;\n",
              "    &lt;link rel=&quot;stylesheet&quot; href=&quot;https://netdna.bootstrapcdn.com/bootstrap/3.0.0/css/bootstrap.min.css&quot;/&gt;\n",
              "    &lt;link rel=&quot;stylesheet&quot; href=&quot;https://cdn.jsdelivr.net/npm/@fortawesome/fontawesome-free@6.2.0/css/all.min.css&quot;/&gt;\n",
              "    &lt;link rel=&quot;stylesheet&quot; href=&quot;https://cdnjs.cloudflare.com/ajax/libs/Leaflet.awesome-markers/2.0.2/leaflet.awesome-markers.css&quot;/&gt;\n",
              "    &lt;link rel=&quot;stylesheet&quot; href=&quot;https://cdn.jsdelivr.net/gh/python-visualization/folium/folium/templates/leaflet.awesome.rotate.min.css&quot;/&gt;\n",
              "    \n",
              "            &lt;meta name=&quot;viewport&quot; content=&quot;width=device-width,\n",
              "                initial-scale=1.0, maximum-scale=1.0, user-scalable=no&quot; /&gt;\n",
              "            &lt;style&gt;\n",
              "                #map_540c9eb10fead2d509ae0cb347621777 {\n",
              "                    position: relative;\n",
              "                    width: 100.0%;\n",
              "                    height: 100.0%;\n",
              "                    left: 0.0%;\n",
              "                    top: 0.0%;\n",
              "                }\n",
              "                .leaflet-container { font-size: 1rem; }\n",
              "            &lt;/style&gt;\n",
              "        \n",
              "    &lt;script src=&quot;https://cdnjs.cloudflare.com/ajax/libs/leaflet.fullscreen/1.4.2/Control.FullScreen.min.js&quot;&gt;&lt;/script&gt;\n",
              "    &lt;link rel=&quot;stylesheet&quot; href=&quot;https://cdnjs.cloudflare.com/ajax/libs/leaflet.fullscreen/1.4.2/Control.FullScreen.min.css&quot;/&gt;\n",
              "&lt;/head&gt;\n",
              "&lt;body&gt;\n",
              "    \n",
              "    \n",
              "            &lt;div class=&quot;folium-map&quot; id=&quot;map_540c9eb10fead2d509ae0cb347621777&quot; &gt;&lt;/div&gt;\n",
              "        \n",
              "&lt;/body&gt;\n",
              "&lt;script&gt;\n",
              "    \n",
              "    \n",
              "            var map_540c9eb10fead2d509ae0cb347621777 = L.map(\n",
              "                &quot;map_540c9eb10fead2d509ae0cb347621777&quot;,\n",
              "                {\n",
              "                    center: [40.0, -100.0],\n",
              "                    crs: L.CRS.EPSG3857,\n",
              "                    zoom: 4,\n",
              "                    zoomControl: true,\n",
              "                    preferCanvas: false,\n",
              "                    useEe: true,\n",
              "                    eeInitialize: true,\n",
              "                    addGoogleMap: true,\n",
              "                    pluginLatlngpopup: true,\n",
              "                    pluginFullscreen: true,\n",
              "                    pluginDraw: false,\n",
              "                    DrawExport: true,\n",
              "                    pluginMinimap: false,\n",
              "                    pluginLayercontrol: false,\n",
              "                }\n",
              "            );\n",
              "\n",
              "            \n",
              "\n",
              "        \n",
              "    \n",
              "            var tile_layer_e437183086c5a8940433d7260c3d9ccd = L.tileLayer(\n",
              "                &quot;https://{s}.tile.openstreetmap.org/{z}/{x}/{y}.png&quot;,\n",
              "                {&quot;attribution&quot;: &quot;Data by \\u0026copy; \\u003ca target=\\&quot;_blank\\&quot; href=\\&quot;http://openstreetmap.org\\&quot;\\u003eOpenStreetMap\\u003c/a\\u003e, under \\u003ca target=\\&quot;_blank\\&quot; href=\\&quot;http://www.openstreetmap.org/copyright\\&quot;\\u003eODbL\\u003c/a\\u003e.&quot;, &quot;detectRetina&quot;: false, &quot;maxNativeZoom&quot;: 18, &quot;maxZoom&quot;: 18, &quot;minZoom&quot;: 0, &quot;noWrap&quot;: false, &quot;opacity&quot;: 1, &quot;subdomains&quot;: &quot;abc&quot;, &quot;tms&quot;: false}\n",
              "            ).addTo(map_540c9eb10fead2d509ae0cb347621777);\n",
              "        \n",
              "    \n",
              "            var tile_layer_2c43d8a1991c3581a211b8f7d3a1f83b = L.tileLayer(\n",
              "                &quot;https://mt1.google.com/vt/lyrs=m\\u0026x={x}\\u0026y={y}\\u0026z={z}&quot;,\n",
              "                {&quot;attribution&quot;: &quot;Google&quot;, &quot;detectRetina&quot;: false, &quot;maxNativeZoom&quot;: 18, &quot;maxZoom&quot;: 18, &quot;minZoom&quot;: 0, &quot;noWrap&quot;: false, &quot;opacity&quot;: 1, &quot;subdomains&quot;: &quot;abc&quot;, &quot;tms&quot;: false}\n",
              "            ).addTo(map_540c9eb10fead2d509ae0cb347621777);\n",
              "        \n",
              "    \n",
              "                var lat_lng_popup_99d40932bf260a54b765c9491553a0f5 = L.popup();\n",
              "                function latLngPop(e) {\n",
              "                    lat_lng_popup_99d40932bf260a54b765c9491553a0f5\n",
              "                        .setLatLng(e.latlng)\n",
              "                        .setContent(&quot;Latitude: &quot; + e.latlng.lat.toFixed(4) +\n",
              "                                    &quot;&lt;br&gt;Longitude: &quot; + e.latlng.lng.toFixed(4))\n",
              "                        .openOn(map_540c9eb10fead2d509ae0cb347621777);\n",
              "                    }\n",
              "                map_540c9eb10fead2d509ae0cb347621777.on(&#x27;click&#x27;, latLngPop);\n",
              "            \n",
              "    \n",
              "            L.control.fullscreen(\n",
              "                {&quot;forceSeparateButton&quot;: false, &quot;position&quot;: &quot;topleft&quot;, &quot;title&quot;: &quot;Full Screen&quot;, &quot;titleCancel&quot;: &quot;Exit Full Screen&quot;}\n",
              "            ).addTo(map_540c9eb10fead2d509ae0cb347621777);\n",
              "        \n",
              "    \n",
              "            map_540c9eb10fead2d509ae0cb347621777.fitBounds(\n",
              "                [[40, -100], [40, -100]],\n",
              "                {&quot;maxZoom&quot;: 4}\n",
              "            );\n",
              "        \n",
              "    \n",
              "            map_540c9eb10fead2d509ae0cb347621777.fitBounds(\n",
              "                [[37.0670734002369, -3.138313479497802], [37.0670734002369, -3.138313479497802]],\n",
              "                {&quot;maxZoom&quot;: 10}\n",
              "            );\n",
              "        \n",
              "    \n",
              "            var tile_layer_64d65ca084b553e155014ebdf2ef8050 = L.tileLayer(\n",
              "                &quot;https://earthengine.googleapis.com/v1/projects/ee-eced692/maps/2362d7a210375070481221054b5b509e-c44127b5fcb73b4accc6b62bbe8cc477/tiles/{z}/{x}/{y}&quot;,\n",
              "                {&quot;attribution&quot;: &quot;Google Earth Engine&quot;, &quot;detectRetina&quot;: false, &quot;maxNativeZoom&quot;: 18, &quot;maxZoom&quot;: 18, &quot;minZoom&quot;: 0, &quot;noWrap&quot;: false, &quot;opacity&quot;: 1.0, &quot;subdomains&quot;: &quot;abc&quot;, &quot;tms&quot;: false}\n",
              "            ).addTo(map_540c9eb10fead2d509ae0cb347621777);\n",
              "        \n",
              "    \n",
              "            var tile_layer_672279a3be9bc2b594dda3e56e5dc77d = L.tileLayer(\n",
              "                &quot;https://earthengine.googleapis.com/v1/projects/ee-eced692/maps/1402dbdc6f3aeabf632f1881f9fa7514-b6eb16f610438ebbcac76e20e0ced9b9/tiles/{z}/{x}/{y}&quot;,\n",
              "                {&quot;attribution&quot;: &quot;Google Earth Engine&quot;, &quot;detectRetina&quot;: false, &quot;maxNativeZoom&quot;: 18, &quot;maxZoom&quot;: 18, &quot;minZoom&quot;: 0, &quot;noWrap&quot;: false, &quot;opacity&quot;: 1.0, &quot;subdomains&quot;: &quot;abc&quot;, &quot;tms&quot;: false}\n",
              "            ).addTo(map_540c9eb10fead2d509ae0cb347621777);\n",
              "        \n",
              "    \n",
              "            var tile_layer_9f790e576f857f0c682da6a8e55e7e04 = L.tileLayer(\n",
              "                &quot;https://earthengine.googleapis.com/v1/projects/ee-eced692/maps/4c68629ea99299e8fb9c464c87954642-31128314f6104674c1d3619010da7d7d/tiles/{z}/{x}/{y}&quot;,\n",
              "                {&quot;attribution&quot;: &quot;Google Earth Engine&quot;, &quot;detectRetina&quot;: false, &quot;maxNativeZoom&quot;: 18, &quot;maxZoom&quot;: 18, &quot;minZoom&quot;: 0, &quot;noWrap&quot;: false, &quot;opacity&quot;: 1.0, &quot;subdomains&quot;: &quot;abc&quot;, &quot;tms&quot;: false}\n",
              "            ).addTo(map_540c9eb10fead2d509ae0cb347621777);\n",
              "        \n",
              "    \n",
              "            var tile_layer_f910a2c582279569f0c07655c5baa8cf = L.tileLayer(\n",
              "                &quot;https://earthengine.googleapis.com/v1/projects/ee-eced692/maps/e033fef92d5e8be088272b2269a29e55-9d6f2813c4438654c6a9060d5dbb05a5/tiles/{z}/{x}/{y}&quot;,\n",
              "                {&quot;attribution&quot;: &quot;Google Earth Engine&quot;, &quot;detectRetina&quot;: false, &quot;maxNativeZoom&quot;: 18, &quot;maxZoom&quot;: 18, &quot;minZoom&quot;: 0, &quot;noWrap&quot;: false, &quot;opacity&quot;: 1.0, &quot;subdomains&quot;: &quot;abc&quot;, &quot;tms&quot;: false}\n",
              "            ).addTo(map_540c9eb10fead2d509ae0cb347621777);\n",
              "        \n",
              "    \n",
              "            var tile_layer_df8769eadad71485298da21ae41c2dcb = L.tileLayer(\n",
              "                &quot;https://earthengine.googleapis.com/v1/projects/ee-eced692/maps/73210fa5149d5f6152d921432821f6bb-a04656238b5d6add8ffd7f53bc595622/tiles/{z}/{x}/{y}&quot;,\n",
              "                {&quot;attribution&quot;: &quot;Google Earth Engine&quot;, &quot;detectRetina&quot;: false, &quot;maxNativeZoom&quot;: 18, &quot;maxZoom&quot;: 18, &quot;minZoom&quot;: 0, &quot;noWrap&quot;: false, &quot;opacity&quot;: 1.0, &quot;subdomains&quot;: &quot;abc&quot;, &quot;tms&quot;: false}\n",
              "            ).addTo(map_540c9eb10fead2d509ae0cb347621777);\n",
              "        \n",
              "    \n",
              "            var tile_layer_fe3fd95884c5bc1c6aabb2bde3c6c976 = L.tileLayer(\n",
              "                &quot;https://earthengine.googleapis.com/v1/projects/ee-eced692/maps/6a972dada3f94dc3cef284711cb33525-b75e1a819a31b9ba3895cb8dc5574d3a/tiles/{z}/{x}/{y}&quot;,\n",
              "                {&quot;attribution&quot;: &quot;Google Earth Engine&quot;, &quot;detectRetina&quot;: false, &quot;maxNativeZoom&quot;: 18, &quot;maxZoom&quot;: 18, &quot;minZoom&quot;: 0, &quot;noWrap&quot;: false, &quot;opacity&quot;: 1.0, &quot;subdomains&quot;: &quot;abc&quot;, &quot;tms&quot;: false}\n",
              "            ).addTo(map_540c9eb10fead2d509ae0cb347621777);\n",
              "        \n",
              "    \n",
              "            var tile_layer_a008945af92571f6f22fdfd9b9c1fd09 = L.tileLayer(\n",
              "                &quot;https://earthengine.googleapis.com/v1/projects/ee-eced692/maps/aec195cdc51b4d341080935cfd2b4cdf-e3990e94d7a52132913a38aec33e95ea/tiles/{z}/{x}/{y}&quot;,\n",
              "                {&quot;attribution&quot;: &quot;Google Earth Engine&quot;, &quot;detectRetina&quot;: false, &quot;maxNativeZoom&quot;: 18, &quot;maxZoom&quot;: 18, &quot;minZoom&quot;: 0, &quot;noWrap&quot;: false, &quot;opacity&quot;: 1.0, &quot;subdomains&quot;: &quot;abc&quot;, &quot;tms&quot;: false}\n",
              "            ).addTo(map_540c9eb10fead2d509ae0cb347621777);\n",
              "        \n",
              "    \n",
              "            var tile_layer_a474dbd454490638ef2c312c48ff881d = L.tileLayer(\n",
              "                &quot;https://earthengine.googleapis.com/v1/projects/ee-eced692/maps/e38875ff23d15e80a1a2f137de5459cb-f0728409646db887c2c9b8829f345891/tiles/{z}/{x}/{y}&quot;,\n",
              "                {&quot;attribution&quot;: &quot;Google Earth Engine&quot;, &quot;detectRetina&quot;: false, &quot;maxNativeZoom&quot;: 18, &quot;maxZoom&quot;: 18, &quot;minZoom&quot;: 0, &quot;noWrap&quot;: false, &quot;opacity&quot;: 1.0, &quot;subdomains&quot;: &quot;abc&quot;, &quot;tms&quot;: false}\n",
              "            ).addTo(map_540c9eb10fead2d509ae0cb347621777);\n",
              "        \n",
              "    \n",
              "            var tile_layer_6f03073499beeb5c45f9833f9d7b8514 = L.tileLayer(\n",
              "                &quot;https://earthengine.googleapis.com/v1/projects/ee-eced692/maps/b92b8cc86b47bfce5d3050b49ebb91ea-bf64acb5aa49b1bf81e4dad531c848b6/tiles/{z}/{x}/{y}&quot;,\n",
              "                {&quot;attribution&quot;: &quot;Google Earth Engine&quot;, &quot;detectRetina&quot;: false, &quot;maxNativeZoom&quot;: 18, &quot;maxZoom&quot;: 18, &quot;minZoom&quot;: 0, &quot;noWrap&quot;: false, &quot;opacity&quot;: 1.0, &quot;subdomains&quot;: &quot;abc&quot;, &quot;tms&quot;: false}\n",
              "            ).addTo(map_540c9eb10fead2d509ae0cb347621777);\n",
              "        \n",
              "    \n",
              "            var tile_layer_ff3b6ea445f71d8efad2d37483d7075f = L.tileLayer(\n",
              "                &quot;https://earthengine.googleapis.com/v1/projects/ee-eced692/maps/290202dbe3ca7ac0ee0ba0fc9f8e8b77-177255dddf6320ddcae631f47b97fcb6/tiles/{z}/{x}/{y}&quot;,\n",
              "                {&quot;attribution&quot;: &quot;Google Earth Engine&quot;, &quot;detectRetina&quot;: false, &quot;maxNativeZoom&quot;: 18, &quot;maxZoom&quot;: 18, &quot;minZoom&quot;: 0, &quot;noWrap&quot;: false, &quot;opacity&quot;: 1.0, &quot;subdomains&quot;: &quot;abc&quot;, &quot;tms&quot;: false}\n",
              "            ).addTo(map_540c9eb10fead2d509ae0cb347621777);\n",
              "        \n",
              "    \n",
              "            var layer_control_e9320e2e4bce01ff37bd3b7fb1ac0855 = {\n",
              "                base_layers : {\n",
              "                    &quot;openstreetmap&quot; : tile_layer_e437183086c5a8940433d7260c3d9ccd,\n",
              "                },\n",
              "                overlays :  {\n",
              "                    &quot;Google Maps&quot; : tile_layer_2c43d8a1991c3581a211b8f7d3a1f83b,\n",
              "                    &quot;NDVI_2011&quot; : tile_layer_64d65ca084b553e155014ebdf2ef8050,\n",
              "                    &quot;NDVI_2012&quot; : tile_layer_672279a3be9bc2b594dda3e56e5dc77d,\n",
              "                    &quot;NDVI_2013&quot; : tile_layer_9f790e576f857f0c682da6a8e55e7e04,\n",
              "                    &quot;NDVI_2014&quot; : tile_layer_f910a2c582279569f0c07655c5baa8cf,\n",
              "                    &quot;NDVI_2015&quot; : tile_layer_df8769eadad71485298da21ae41c2dcb,\n",
              "                    &quot;NDVI_2016&quot; : tile_layer_fe3fd95884c5bc1c6aabb2bde3c6c976,\n",
              "                    &quot;NDVI_2017&quot; : tile_layer_a008945af92571f6f22fdfd9b9c1fd09,\n",
              "                    &quot;NDVI_2018&quot; : tile_layer_a474dbd454490638ef2c312c48ff881d,\n",
              "                    &quot;NDVI_2019&quot; : tile_layer_6f03073499beeb5c45f9833f9d7b8514,\n",
              "                    &quot;NDVI_2020&quot; : tile_layer_ff3b6ea445f71d8efad2d37483d7075f,\n",
              "                },\n",
              "            };\n",
              "            L.control.layers(\n",
              "                layer_control_e9320e2e4bce01ff37bd3b7fb1ac0855.base_layers,\n",
              "                layer_control_e9320e2e4bce01ff37bd3b7fb1ac0855.overlays,\n",
              "                {&quot;autoZIndex&quot;: true, &quot;collapsed&quot;: true, &quot;position&quot;: &quot;topright&quot;}\n",
              "            ).addTo(map_540c9eb10fead2d509ae0cb347621777);\n",
              "        \n",
              "&lt;/script&gt;\n",
              "&lt;/html&gt;\" style=\"position:absolute;width:100%;height:100%;left:0;top:0;border:none !important;\" allowfullscreen webkitallowfullscreen mozallowfullscreen></iframe></div></div>"
            ]
          },
          "metadata": {},
          "execution_count": 10
        }
      ]
    },
    {
      "cell_type": "markdown",
      "source": [
        "**NDVI value in a specific point (lat, long)**"
      ],
      "metadata": {
        "id": "sY5RHDqyEC4l"
      }
    },
    {
      "cell_type": "code",
      "source": [
        "lat = 37.0311\n",
        "lon = -3.3259\n",
        "point = ee.Geometry.Point((lon, lat))"
      ],
      "metadata": {
        "id": "91apRlFhEMJ-"
      },
      "execution_count": null,
      "outputs": []
    },
    {
      "cell_type": "code",
      "source": [
        "data_point = []\n",
        "for band in bands:\n",
        "  data_point.append(band.reduceRegion(ee.Reducer.max(), point, 30).get(\"NDVI\").getInfo())\n",
        "data_point"
      ],
      "metadata": {
        "colab": {
          "base_uri": "https://localhost:8080/"
        },
        "id": "VNQ250cHEZfz",
        "outputId": "8f0d67f2-0e41-43be-a510-ef9b18c7753b"
      },
      "execution_count": null,
      "outputs": [
        {
          "output_type": "execute_result",
          "data": {
            "text/plain": [
              "[0.2708846926689148,\n",
              " 0.35672202706336975,\n",
              " 0.29898107051849365,\n",
              " 0.3055393695831299,\n",
              " 0.31735706329345703,\n",
              " 0.40142637491226196,\n",
              " 0.35356849431991577,\n",
              " 0.3559139668941498,\n",
              " 0.3727618157863617,\n",
              " 0.40182793140411377]"
            ]
          },
          "metadata": {},
          "execution_count": 12
        }
      ]
    },
    {
      "cell_type": "markdown",
      "source": [
        "Montamos drive, que colab tenga acceso a drive"
      ],
      "metadata": {
        "id": "E_iH4mt-GQv8"
      }
    },
    {
      "cell_type": "code",
      "source": [
        "from google.colab import drive\n",
        "drive.mount('/content/drive')"
      ],
      "metadata": {
        "colab": {
          "base_uri": "https://localhost:8080/"
        },
        "id": "0eU2_FcTF9IL",
        "outputId": "1662ca01-adc9-4792-a3d0-d1d93747faf5"
      },
      "execution_count": null,
      "outputs": [
        {
          "output_type": "stream",
          "name": "stdout",
          "text": [
            "Mounted at /content/drive\n"
          ]
        }
      ]
    },
    {
      "cell_type": "code",
      "source": [
        "import pandas as pd\n",
        "\n",
        "df = pd.DataFrame({\"NDVI\":data_point}, index=range(2011, 2021))\n",
        "df.index = df.index.rename(\"Year\")\n",
        "\n",
        "#Creamos un .csv\n",
        "df.to_csv('/content/drive/My Drive/Ecoinformatica/ndvi.csv')\n",
        "\n",
        "df.plot()"
      ],
      "metadata": {
        "colab": {
          "base_uri": "https://localhost:8080/",
          "height": 466
        },
        "id": "C-tl5qM-GehF",
        "outputId": "2260d101-c318-40a9-facf-4bc0ce044a2a"
      },
      "execution_count": null,
      "outputs": [
        {
          "output_type": "execute_result",
          "data": {
            "text/plain": [
              "<Axes: xlabel='Year'>"
            ]
          },
          "metadata": {},
          "execution_count": 14
        },
        {
          "output_type": "display_data",
          "data": {
            "text/plain": [
              "<Figure size 640x480 with 1 Axes>"
            ],
            "image/png": "[encoded data removed]"
          },
          "metadata": {}
        }
      ]
    },
    {
      "cell_type": "markdown",
      "source": [
        "**Mean value en Sierra Nevada**"
      ],
      "metadata": {
        "id": "fFMyY46e7bTy"
      }
    },
    {
      "cell_type": "code",
      "source": [
        "data_sn = []\n",
        "for band in bands:\n",
        "    data_sn.append(band.reduceRegion(ee.Reducer.mean(), zone, 30).get(\"NDVI\").getInfo())\n",
        "data_sn"
      ],
      "metadata": {
        "colab": {
          "base_uri": "https://localhost:8080/"
        },
        "id": "JnvJ93cm7lGI",
        "outputId": "8c29f6e6-0e7b-4d0b-d511-63da50a49d10"
      },
      "execution_count": null,
      "outputs": [
        {
          "output_type": "stream",
          "name": "stderr",
          "text": [
            "WARNING:googleapiclient.http:Sleeping 0.45 seconds before retry 1 of 5 for request: POST https://earthengine.googleapis.com/v1/projects/ee-eced692/value:compute?prettyPrint=false&alt=json, after 503\n"
          ]
        },
        {
          "output_type": "execute_result",
          "data": {
            "text/plain": [
              "[0.4389441632511864,\n",
              " 0.43759124554545414,\n",
              " 0.46258991901619434,\n",
              " 0.43935823237463706,\n",
              " 0.442469510819633,\n",
              " 0.4295157183756784,\n",
              " 0.4432493587405777,\n",
              " 0.4674906498242192,\n",
              " 0.462930568881703,\n",
              " 0.4681666809172805]"
            ]
          },
          "metadata": {},
          "execution_count": 15
        }
      ]
    },
    {
      "cell_type": "code",
      "source": [
        "df = pd.DataFrame({\"NDVI\":data_sn}, index=range(2011, 2021))\n",
        "df.index = df.index.rename(\"Year\")\n",
        "\n",
        "df.plot()"
      ],
      "metadata": {
        "colab": {
          "base_uri": "https://localhost:8080/",
          "height": 471
        },
        "id": "Qnqjx60R8wGg",
        "outputId": "51623b36-c6bc-4b94-c8c9-acc3fb54f993"
      },
      "execution_count": null,
      "outputs": [
        {
          "output_type": "execute_result",
          "data": {
            "text/plain": [
              "<Axes: xlabel='Year'>"
            ]
          },
          "metadata": {},
          "execution_count": 16
        },
        {
          "output_type": "display_data",
          "data": {
            "text/plain": [
              "<Figure size 640x480 with 1 Axes>"
            ],
            "image/png": "[encoded data removed]"
          },
          "metadata": {}
        }
      ]
    },
    {
      "cell_type": "markdown",
      "source": [
        "**Now we want to export the NDVI time series rasters to our Google Drive folder**"
      ],
      "metadata": {
        "id": "iWmRDeTe_9IY"
      }
    },
    {
      "cell_type": "code",
      "source": [
        "for i, band in enumerate(bands):\n",
        "  geemap.ee_export_image_to_drive(\n",
        "      band, \"ndvi_\"+str(2011+i), folder=\"GEE_ECOINF\", region=zone.geometry(), scale=30\n",
        "  )"
      ],
      "metadata": {
        "colab": {
          "base_uri": "https://localhost:8080/"
        },
        "id": "zHAAs0uaACcb",
        "outputId": "a8b8107d-61c6-405a-e916-fc9d304e48e2"
      },
      "execution_count": null,
      "outputs": [
        {
          "output_type": "stream",
          "name": "stdout",
          "text": [
            "Exporting ndvi_2011 ...\n",
            "Exporting ndvi_2012 ...\n",
            "Exporting ndvi_2013 ...\n",
            "Exporting ndvi_2014 ...\n",
            "Exporting ndvi_2015 ...\n",
            "Exporting ndvi_2016 ...\n",
            "Exporting ndvi_2017 ...\n",
            "Exporting ndvi_2018 ...\n",
            "Exporting ndvi_2019 ...\n",
            "Exporting ndvi_2020 ...\n"
          ]
        }
      ]
    },
    {
      "cell_type": "markdown",
      "source": [
        "**We will use the Mann-Kendall trend test to detect a trend in a series of values. Mann-Kendall trend test is a nonparametric test.**"
      ],
      "metadata": {
        "id": "Se1TWB8JCcZP"
      }
    },
    {
      "cell_type": "code",
      "source": [
        "# Generate a single file with the different layers (bands)\n",
        "stack_collection = ee.ImageCollection(bands)\n",
        "ndvis = stack_collection.toBands()"
      ],
      "metadata": {
        "id": "fR81RpvxCkFk"
      },
      "execution_count": null,
      "outputs": []
    },
    {
      "cell_type": "code",
      "source": [
        "ndvi_trend = ndvis.reduce(ee.Reducer.kendallsCorrelation())\n",
        "tau = ndvi_trend.select(\"tau\") # Negative values indicate a decreasing trend and positive values indicate an increasing trend"
      ],
      "metadata": {
        "id": "JKcmlaCfCu4O"
      },
      "execution_count": null,
      "outputs": []
    },
    {
      "cell_type": "code",
      "source": [
        "m = geemap.Map()\n",
        "\n",
        "m.centerObject(zone, zoom = 10)\n",
        "\n",
        "vis_params = {\"min\": -1, \"max\": 1, \"palette\": [\"red\", \"orange\", \"white\", \"green\"]}\n",
        "\n",
        "m.addLayer(tau, vis_params, \"Mann-Kendal\")\n",
        "\n",
        "m"
      ],
      "metadata": {
        "colab": {
          "base_uri": "https://localhost:8080/",
          "height": 711
        },
        "id": "DEJCX1cBDKWS",
        "outputId": "3a78969b-b625-4be0-a0b2-e71eebe1fe36"
      },
      "execution_count": null,
      "outputs": [
        {
          "output_type": "execute_result",
          "data": {
            "text/plain": [
              "<eefolium.eefolium.Map at 0x7a04de1b40a0>"
            ],
            "text/html": [
              "<div style=\"width:100%;\"><div style=\"position:relative;width:100%;height:0;padding-bottom:60%;\"><span style=\"color:#565656\">Make this Notebook Trusted to load map: File -> Trust Notebook</span><iframe srcdoc=\"&lt;!DOCTYPE html&gt;\n",
              "&lt;html&gt;\n",
              "&lt;head&gt;\n",
              "    \n",
              "    &lt;meta http-equiv=&quot;content-type&quot; content=&quot;text/html; charset=UTF-8&quot; /&gt;\n",
              "    \n",
              "        &lt;script&gt;\n",
              "            L_NO_TOUCH = false;\n",
              "            L_DISABLE_3D = false;\n",
              "        &lt;/script&gt;\n",
              "    \n",
              "    &lt;style&gt;html, body {width: 100%;height: 100%;margin: 0;padding: 0;}&lt;/style&gt;\n",
              "    &lt;style&gt;#map {position:absolute;top:0;bottom:0;right:0;left:0;}&lt;/style&gt;\n",
              "    &lt;script src=&quot;https://cdn.jsdelivr.net/npm/leaflet@1.9.3/dist/leaflet.js&quot;&gt;&lt;/script&gt;\n",
              "    &lt;script src=&quot;https://code.jquery.com/jquery-1.12.4.min.js&quot;&gt;&lt;/script&gt;\n",
              "    &lt;script src=&quot;https://cdn.jsdelivr.net/npm/bootstrap@5.2.2/dist/js/bootstrap.bundle.min.js&quot;&gt;&lt;/script&gt;\n",
              "    &lt;script src=&quot;https://cdnjs.cloudflare.com/ajax/libs/Leaflet.awesome-markers/2.0.2/leaflet.awesome-markers.js&quot;&gt;&lt;/script&gt;\n",
              "    &lt;link rel=&quot;stylesheet&quot; href=&quot;https://cdn.jsdelivr.net/npm/leaflet@1.9.3/dist/leaflet.css&quot;/&gt;\n",
              "    &lt;link rel=&quot;stylesheet&quot; href=&quot;https://cdn.jsdelivr.net/npm/bootstrap@5.2.2/dist/css/bootstrap.min.css&quot;/&gt;\n",
              "    &lt;link rel=&quot;stylesheet&quot; href=&quot;https://netdna.bootstrapcdn.com/bootstrap/3.0.0/css/bootstrap.min.css&quot;/&gt;\n",
              "    &lt;link rel=&quot;stylesheet&quot; href=&quot;https://cdn.jsdelivr.net/npm/@fortawesome/fontawesome-free@6.2.0/css/all.min.css&quot;/&gt;\n",
              "    &lt;link rel=&quot;stylesheet&quot; href=&quot;https://cdnjs.cloudflare.com/ajax/libs/Leaflet.awesome-markers/2.0.2/leaflet.awesome-markers.css&quot;/&gt;\n",
              "    &lt;link rel=&quot;stylesheet&quot; href=&quot;https://cdn.jsdelivr.net/gh/python-visualization/folium/folium/templates/leaflet.awesome.rotate.min.css&quot;/&gt;\n",
              "    \n",
              "            &lt;meta name=&quot;viewport&quot; content=&quot;width=device-width,\n",
              "                initial-scale=1.0, maximum-scale=1.0, user-scalable=no&quot; /&gt;\n",
              "            &lt;style&gt;\n",
              "                #map_9734118cf1dd6e543e8374c812902591 {\n",
              "                    position: relative;\n",
              "                    width: 100.0%;\n",
              "                    height: 100.0%;\n",
              "                    left: 0.0%;\n",
              "                    top: 0.0%;\n",
              "                }\n",
              "                .leaflet-container { font-size: 1rem; }\n",
              "            &lt;/style&gt;\n",
              "        \n",
              "    &lt;script src=&quot;https://cdnjs.cloudflare.com/ajax/libs/leaflet.fullscreen/1.4.2/Control.FullScreen.min.js&quot;&gt;&lt;/script&gt;\n",
              "    &lt;link rel=&quot;stylesheet&quot; href=&quot;https://cdnjs.cloudflare.com/ajax/libs/leaflet.fullscreen/1.4.2/Control.FullScreen.min.css&quot;/&gt;\n",
              "&lt;/head&gt;\n",
              "&lt;body&gt;\n",
              "    \n",
              "    \n",
              "            &lt;div class=&quot;folium-map&quot; id=&quot;map_9734118cf1dd6e543e8374c812902591&quot; &gt;&lt;/div&gt;\n",
              "        \n",
              "&lt;/body&gt;\n",
              "&lt;script&gt;\n",
              "    \n",
              "    \n",
              "            var map_9734118cf1dd6e543e8374c812902591 = L.map(\n",
              "                &quot;map_9734118cf1dd6e543e8374c812902591&quot;,\n",
              "                {\n",
              "                    center: [40.0, -100.0],\n",
              "                    crs: L.CRS.EPSG3857,\n",
              "                    zoom: 4,\n",
              "                    zoomControl: true,\n",
              "                    preferCanvas: false,\n",
              "                    useEe: true,\n",
              "                    eeInitialize: true,\n",
              "                    addGoogleMap: true,\n",
              "                    pluginLatlngpopup: true,\n",
              "                    pluginFullscreen: true,\n",
              "                    pluginDraw: false,\n",
              "                    DrawExport: true,\n",
              "                    pluginMinimap: false,\n",
              "                    pluginLayercontrol: false,\n",
              "                }\n",
              "            );\n",
              "\n",
              "            \n",
              "\n",
              "        \n",
              "    \n",
              "            var tile_layer_bebbbae4490dcc5624b04a24dca02041 = L.tileLayer(\n",
              "                &quot;https://{s}.tile.openstreetmap.org/{z}/{x}/{y}.png&quot;,\n",
              "                {&quot;attribution&quot;: &quot;Data by \\u0026copy; \\u003ca target=\\&quot;_blank\\&quot; href=\\&quot;http://openstreetmap.org\\&quot;\\u003eOpenStreetMap\\u003c/a\\u003e, under \\u003ca target=\\&quot;_blank\\&quot; href=\\&quot;http://www.openstreetmap.org/copyright\\&quot;\\u003eODbL\\u003c/a\\u003e.&quot;, &quot;detectRetina&quot;: false, &quot;maxNativeZoom&quot;: 18, &quot;maxZoom&quot;: 18, &quot;minZoom&quot;: 0, &quot;noWrap&quot;: false, &quot;opacity&quot;: 1, &quot;subdomains&quot;: &quot;abc&quot;, &quot;tms&quot;: false}\n",
              "            ).addTo(map_9734118cf1dd6e543e8374c812902591);\n",
              "        \n",
              "    \n",
              "            var tile_layer_2c43d8a1991c3581a211b8f7d3a1f83b = L.tileLayer(\n",
              "                &quot;https://mt1.google.com/vt/lyrs=m\\u0026x={x}\\u0026y={y}\\u0026z={z}&quot;,\n",
              "                {&quot;attribution&quot;: &quot;Google&quot;, &quot;detectRetina&quot;: false, &quot;maxNativeZoom&quot;: 18, &quot;maxZoom&quot;: 18, &quot;minZoom&quot;: 0, &quot;noWrap&quot;: false, &quot;opacity&quot;: 1, &quot;subdomains&quot;: &quot;abc&quot;, &quot;tms&quot;: false}\n",
              "            ).addTo(map_9734118cf1dd6e543e8374c812902591);\n",
              "        \n",
              "    \n",
              "                var lat_lng_popup_f3fcdb16d040032da5639a671958394e = L.popup();\n",
              "                function latLngPop(e) {\n",
              "                    lat_lng_popup_f3fcdb16d040032da5639a671958394e\n",
              "                        .setLatLng(e.latlng)\n",
              "                        .setContent(&quot;Latitude: &quot; + e.latlng.lat.toFixed(4) +\n",
              "                                    &quot;&lt;br&gt;Longitude: &quot; + e.latlng.lng.toFixed(4))\n",
              "                        .openOn(map_9734118cf1dd6e543e8374c812902591);\n",
              "                    }\n",
              "                map_9734118cf1dd6e543e8374c812902591.on(&#x27;click&#x27;, latLngPop);\n",
              "            \n",
              "    \n",
              "            L.control.fullscreen(\n",
              "                {&quot;forceSeparateButton&quot;: false, &quot;position&quot;: &quot;topleft&quot;, &quot;title&quot;: &quot;Full Screen&quot;, &quot;titleCancel&quot;: &quot;Exit Full Screen&quot;}\n",
              "            ).addTo(map_9734118cf1dd6e543e8374c812902591);\n",
              "        \n",
              "    \n",
              "            map_9734118cf1dd6e543e8374c812902591.fitBounds(\n",
              "                [[40, -100], [40, -100]],\n",
              "                {&quot;maxZoom&quot;: 4}\n",
              "            );\n",
              "        \n",
              "    \n",
              "            map_9734118cf1dd6e543e8374c812902591.fitBounds(\n",
              "                [[37.0670734002369, -3.138313479497802], [37.0670734002369, -3.138313479497802]],\n",
              "                {&quot;maxZoom&quot;: 10}\n",
              "            );\n",
              "        \n",
              "    \n",
              "            var tile_layer_54f0f2558848057233e39ded52d17824 = L.tileLayer(\n",
              "                &quot;https://earthengine.googleapis.com/v1/projects/ee-eced692/maps/b9a28ee5110327793af714348fb8d7c2-735579afd834e2a85d482499a5d5b32f/tiles/{z}/{x}/{y}&quot;,\n",
              "                {&quot;attribution&quot;: &quot;Google Earth Engine&quot;, &quot;detectRetina&quot;: false, &quot;maxNativeZoom&quot;: 18, &quot;maxZoom&quot;: 18, &quot;minZoom&quot;: 0, &quot;noWrap&quot;: false, &quot;opacity&quot;: 1.0, &quot;subdomains&quot;: &quot;abc&quot;, &quot;tms&quot;: false}\n",
              "            ).addTo(map_9734118cf1dd6e543e8374c812902591);\n",
              "        \n",
              "&lt;/script&gt;\n",
              "&lt;/html&gt;\" style=\"position:absolute;width:100%;height:100%;left:0;top:0;border:none !important;\" allowfullscreen webkitallowfullscreen mozallowfullscreen></iframe></div></div>"
            ]
          },
          "metadata": {},
          "execution_count": 23
        }
      ]
    },
    {
      "cell_type": "code",
      "source": [
        "geemap.ee_export_image_to_drive(\n",
        "        tau, \"tau\", folder=\"GEE_ECOINF\", region=zone.geometry(), scale=30\n",
        "    )"
      ],
      "metadata": {
        "id": "YQ6KT7hYDKS2"
      },
      "execution_count": null,
      "outputs": []
    }
  ]
}